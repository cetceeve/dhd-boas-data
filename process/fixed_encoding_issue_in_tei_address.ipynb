{
 "cells": [
  {
   "cell_type": "code",
   "execution_count": null,
   "metadata": {},
   "outputs": [],
   "source": [
    "import glob\n",
    "from config import TEI_DIR, PATTERNS\n",
    "from teipy import TeiReader\n",
    "from lxml import etree as ET"
   ]
  },
  {
   "cell_type": "code",
   "execution_count": null,
   "metadata": {},
   "outputs": [],
   "source": [
    "good = r\"\"\"<address xmlns=\"http://www.tei-c.org/ns/1.0\">\n",
    "                    <addrLine>Goethe-Universität Frankfurt am Main</addrLine>\n",
    "                    <addrLine>Text Technology Lab, Fachbereich für Informatik und Mathematik</addrLine>\n",
    "                    <addrLine>Robert-Mayer-Straße 10</addrLine>\n",
    "                    <addrLine>60325 Frankfurt am Main</addrLine>\n",
    "                </address>\"\"\""
   ]
  },
  {
   "cell_type": "code",
   "execution_count": null,
   "metadata": {},
   "outputs": [],
   "source": [
    "new_child_nodes = TeiReader(good).addr_lines()\n",
    "xpath_to_parent = '//tei:address'"
   ]
  },
  {
   "cell_type": "code",
   "execution_count": null,
   "metadata": {},
   "outputs": [],
   "source": [
    "files = glob.glob(\"{}/*.xml\".format(TEI_DIR))"
   ]
  },
  {
   "cell_type": "code",
   "execution_count": null,
   "metadata": {},
   "outputs": [],
   "source": [
    "for x in files:\n",
    "    doc = TeiReader(x)\n",
    "    doc.replace_child_nodes(xpath_to_parent, new_child_nodes)\n",
    "    doc.tree.write(x, pretty_print=True, encoding='utf-8')"
   ]
  },
  {
   "cell_type": "code",
   "execution_count": null,
   "metadata": {},
   "outputs": [],
   "source": []
  }
 ],
 "metadata": {
  "kernelspec": {
   "display_name": "Python 3",
   "language": "python",
   "name": "python3"
  },
  "language_info": {
   "codemirror_mode": {
    "name": "ipython",
    "version": 3
   },
   "file_extension": ".py",
   "mimetype": "text/x-python",
   "name": "python",
   "nbconvert_exporter": "python",
   "pygments_lexer": "ipython3",
   "version": "3.7.1"
  }
 },
 "nbformat": 4,
 "nbformat_minor": 2
}
